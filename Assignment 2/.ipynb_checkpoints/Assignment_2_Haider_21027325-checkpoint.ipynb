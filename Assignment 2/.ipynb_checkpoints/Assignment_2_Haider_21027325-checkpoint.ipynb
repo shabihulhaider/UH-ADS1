{
 "cells": [
  {
   "cell_type": "markdown",
   "id": "ced2bddf",
   "metadata": {},
   "source": [
    "## Assignment 2\n",
    "Haider, Shabih, 21027325"
   ]
  },
  {
   "cell_type": "code",
   "execution_count": null,
   "id": "69c15d60",
   "metadata": {},
   "outputs": [],
   "source": []
  }
 ],
 "metadata": {
  "kernelspec": {
   "display_name": "Python 3 (ipykernel)",
   "language": "python",
   "name": "python3"
  },
  "language_info": {
   "codemirror_mode": {
    "name": "ipython",
    "version": 3
   },
   "file_extension": ".py",
   "mimetype": "text/x-python",
   "name": "python",
   "nbconvert_exporter": "python",
   "pygments_lexer": "ipython3",
   "version": "3.9.7"
  }
 },
 "nbformat": 4,
 "nbformat_minor": 5
}
