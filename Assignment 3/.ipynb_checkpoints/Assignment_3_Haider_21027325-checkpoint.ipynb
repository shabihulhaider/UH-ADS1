{
 "cells": [
  {
   "cell_type": "markdown",
   "id": "9340c33f",
   "metadata": {},
   "source": [
    "## Assignment 3\n",
    "Haider, Shabih, 21027325"
   ]
  },
  {
   "cell_type": "code",
   "execution_count": 179,
   "id": "084d1b74",
   "metadata": {},
   "outputs": [],
   "source": [
    "import numpy as np\n",
    "import pandas as pd\n",
    "import wbgapi as wb\n",
    "import matplotlib.pyplot as plt\n",
    "import seaborn as sns\n",
    "import sklearn.cluster as cluster\n",
    "import scipy.optimize as opt\n"
   ]
  },
  {
   "cell_type": "code",
   "execution_count": 194,
   "id": "4d4bfece",
   "metadata": {},
   "outputs": [],
   "source": [
    "# This function retrieves data from world bank website and saves it into a file\n",
    "def get_world_bank_data(c_codes):\n",
    "    # Indicator ids\n",
    "    indicator_ids = ['EG.USE.PCAP.KG.OE', 'EN.ATM.METH.KT.CE', 'EN.ATM.GHGT.KT.CE']\n",
    "    print(wb.series.info(indicator_ids))\n",
    "    \n",
    "    years = np.array(range(1990, 2014))\n",
    "\n",
    "    #MultiIndex Columns\n",
    "    columns=pd.MultiIndex.from_arrays([['Energy use','Total greenhouse gas emissions',\n",
    "                                              'Methane emissions'],\n",
    "                                                ['','','']])\n",
    "    #MultiIndex Rows\n",
    "    idx = pd.MultiIndex.from_product([c_codes, years],\n",
    "                                       names=['Country', 'Year'])\n",
    "\n",
    "    wb_dataframe = pd.DataFrame()\n",
    "\n",
    "    for c_code in c_codes:\n",
    "        wb_df = wb.data.DataFrame(indicator_ids, c_code, time=range(1990,2014)).set_index(columns)\n",
    "        #use concat hierarchical indexing\n",
    "        wb_dataframe = pd.concat([wb_dataframe, wb_df.T], ignore_index=True)\n",
    "\n",
    "    wb_dataframe = wb_dataframe.set_index(idx)\n",
    "\n",
    "    # Checking for null values in dataframe\n",
    "    display(\"Checking null values in DataFrame\")\n",
    "    display(wb_dataframe.isnull().sum())\n",
    "    \n",
    "    return wb_dataframe"
   ]
  },
  {
   "cell_type": "code",
   "execution_count": 193,
   "id": "bd34cb6c",
   "metadata": {},
   "outputs": [
    {
     "name": "stdout",
     "output_type": "stream",
     "text": [
      "id                 value\n",
      "-----------------  -----------------------------------------------------\n",
      "EG.USE.PCAP.KG.OE  Energy use (kg of oil equivalent per capita)\n",
      "EN.ATM.METH.KT.CE  Methane emissions (kt of CO2 equivalent)\n",
      "EN.ATM.GHGT.KT.CE  Total greenhouse gas emissions (kt of CO2 equivalent)\n",
      "                   3 elements\n",
      "CHN\n",
      "FRA\n",
      "DEU\n",
      "IND\n",
      "USA\n",
      "WLD\n"
     ]
    },
    {
     "data": {
      "text/plain": [
       "'Checking null values in DataFrame'"
      ]
     },
     "metadata": {},
     "output_type": "display_data"
    },
    {
     "data": {
      "text/plain": [
       "Energy use                          0\n",
       "Total greenhouse gas emissions      0\n",
       "Methane emissions                   0\n",
       "dtype: int64"
      ]
     },
     "metadata": {},
     "output_type": "display_data"
    },
    {
     "data": {
      "text/html": [
       "<div>\n",
       "<style scoped>\n",
       "    .dataframe tbody tr th:only-of-type {\n",
       "        vertical-align: middle;\n",
       "    }\n",
       "\n",
       "    .dataframe tbody tr th {\n",
       "        vertical-align: top;\n",
       "    }\n",
       "\n",
       "    .dataframe thead tr th {\n",
       "        text-align: left;\n",
       "    }\n",
       "\n",
       "    .dataframe thead tr:last-of-type th {\n",
       "        text-align: right;\n",
       "    }\n",
       "</style>\n",
       "<table border=\"1\" class=\"dataframe\">\n",
       "  <thead>\n",
       "    <tr>\n",
       "      <th></th>\n",
       "      <th></th>\n",
       "      <th>Energy use</th>\n",
       "      <th>Total greenhouse gas emissions</th>\n",
       "      <th>Methane emissions</th>\n",
       "    </tr>\n",
       "    <tr>\n",
       "      <th></th>\n",
       "      <th></th>\n",
       "      <th></th>\n",
       "      <th></th>\n",
       "      <th></th>\n",
       "    </tr>\n",
       "    <tr>\n",
       "      <th>Country</th>\n",
       "      <th>Year</th>\n",
       "      <th></th>\n",
       "      <th></th>\n",
       "      <th></th>\n",
       "    </tr>\n",
       "  </thead>\n",
       "  <tbody>\n",
       "    <tr>\n",
       "      <th rowspan=\"5\" valign=\"top\">CHN</th>\n",
       "      <th>1990</th>\n",
       "      <td>766.995329</td>\n",
       "      <td>3222270.0</td>\n",
       "      <td>730340.0</td>\n",
       "    </tr>\n",
       "    <tr>\n",
       "      <th>1991</th>\n",
       "      <td>736.851801</td>\n",
       "      <td>3371940.0</td>\n",
       "      <td>743070.0</td>\n",
       "    </tr>\n",
       "    <tr>\n",
       "      <th>1992</th>\n",
       "      <td>752.628663</td>\n",
       "      <td>3503100.0</td>\n",
       "      <td>751660.0</td>\n",
       "    </tr>\n",
       "    <tr>\n",
       "      <th>1993</th>\n",
       "      <td>788.128724</td>\n",
       "      <td>3726350.0</td>\n",
       "      <td>757560.0</td>\n",
       "    </tr>\n",
       "    <tr>\n",
       "      <th>1994</th>\n",
       "      <td>816.162890</td>\n",
       "      <td>3877370.0</td>\n",
       "      <td>773650.0</td>\n",
       "    </tr>\n",
       "    <tr>\n",
       "      <th>...</th>\n",
       "      <th>...</th>\n",
       "      <td>...</td>\n",
       "      <td>...</td>\n",
       "      <td>...</td>\n",
       "    </tr>\n",
       "    <tr>\n",
       "      <th rowspan=\"5\" valign=\"top\">WLD</th>\n",
       "      <th>2009</th>\n",
       "      <td>1796.215452</td>\n",
       "      <td>39846770.0</td>\n",
       "      <td>7591370.0</td>\n",
       "    </tr>\n",
       "    <tr>\n",
       "      <th>2010</th>\n",
       "      <td>1874.657688</td>\n",
       "      <td>41817500.0</td>\n",
       "      <td>7704390.0</td>\n",
       "    </tr>\n",
       "    <tr>\n",
       "      <th>2011</th>\n",
       "      <td>1881.477548</td>\n",
       "      <td>43022060.0</td>\n",
       "      <td>7807040.0</td>\n",
       "    </tr>\n",
       "    <tr>\n",
       "      <th>2012</th>\n",
       "      <td>1891.700426</td>\n",
       "      <td>43582450.0</td>\n",
       "      <td>7869970.0</td>\n",
       "    </tr>\n",
       "    <tr>\n",
       "      <th>2013</th>\n",
       "      <td>1894.112059</td>\n",
       "      <td>44233530.0</td>\n",
       "      <td>7880460.0</td>\n",
       "    </tr>\n",
       "  </tbody>\n",
       "</table>\n",
       "<p>144 rows × 3 columns</p>\n",
       "</div>"
      ],
      "text/plain": [
       "               Energy use Total greenhouse gas emissions Methane emissions\n",
       "                                                                          \n",
       "Country Year                                                              \n",
       "CHN     1990   766.995329                      3222270.0          730340.0\n",
       "        1991   736.851801                      3371940.0          743070.0\n",
       "        1992   752.628663                      3503100.0          751660.0\n",
       "        1993   788.128724                      3726350.0          757560.0\n",
       "        1994   816.162890                      3877370.0          773650.0\n",
       "...                   ...                            ...               ...\n",
       "WLD     2009  1796.215452                     39846770.0         7591370.0\n",
       "        2010  1874.657688                     41817500.0         7704390.0\n",
       "        2011  1881.477548                     43022060.0         7807040.0\n",
       "        2012  1891.700426                     43582450.0         7869970.0\n",
       "        2013  1894.112059                     44233530.0         7880460.0\n",
       "\n",
       "[144 rows x 3 columns]"
      ]
     },
     "execution_count": 193,
     "metadata": {},
     "output_type": "execute_result"
    }
   ],
   "source": [
    "# Selected countries\n",
    "country_codes = ['CHN', 'FRA', 'DEU', 'IND', 'USA', 'WLD']\n",
    "country_names = {\n",
    "    \"CHN\" : \"China\",\n",
    "    \"FRA\" : \"France\",\n",
    "    \"DEU\" : \"Germany\",\n",
    "    \"IND\" : \"India\",\n",
    "    \"USA\" : \"United States\",\n",
    "    \"WLD\" : \"World\"\n",
    "}\n",
    "\n",
    "# This following function is used to fetch the data from WB API. Only call this function if you want to update the data.\n",
    "climate_dataset = get_world_bank_data(country_codes)\n",
    "climate_dataset"
   ]
  },
  {
   "cell_type": "code",
   "execution_count": 182,
   "id": "da38a5cf",
   "metadata": {},
   "outputs": [
    {
     "data": {
      "text/html": [
       "<div>\n",
       "<style scoped>\n",
       "    .dataframe tbody tr th:only-of-type {\n",
       "        vertical-align: middle;\n",
       "    }\n",
       "\n",
       "    .dataframe tbody tr th {\n",
       "        vertical-align: top;\n",
       "    }\n",
       "\n",
       "    .dataframe thead tr th {\n",
       "        text-align: left;\n",
       "    }\n",
       "\n",
       "    .dataframe thead tr:last-of-type th {\n",
       "        text-align: right;\n",
       "    }\n",
       "</style>\n",
       "<table border=\"1\" class=\"dataframe\">\n",
       "  <thead>\n",
       "    <tr>\n",
       "      <th></th>\n",
       "      <th colspan=\"8\" halign=\"left\">Energy use</th>\n",
       "      <th colspan=\"5\" halign=\"left\">Total greenhouse gas emissions</th>\n",
       "      <th colspan=\"8\" halign=\"left\">Methane emissions</th>\n",
       "    </tr>\n",
       "    <tr>\n",
       "      <th></th>\n",
       "      <th colspan=\"8\" halign=\"left\"></th>\n",
       "      <th colspan=\"5\" halign=\"left\"></th>\n",
       "      <th colspan=\"8\" halign=\"left\"></th>\n",
       "    </tr>\n",
       "    <tr>\n",
       "      <th></th>\n",
       "      <th>count</th>\n",
       "      <th>mean</th>\n",
       "      <th>std</th>\n",
       "      <th>min</th>\n",
       "      <th>25%</th>\n",
       "      <th>50%</th>\n",
       "      <th>75%</th>\n",
       "      <th>max</th>\n",
       "      <th>count</th>\n",
       "      <th>mean</th>\n",
       "      <th>...</th>\n",
       "      <th>75%</th>\n",
       "      <th>max</th>\n",
       "      <th>count</th>\n",
       "      <th>mean</th>\n",
       "      <th>std</th>\n",
       "      <th>min</th>\n",
       "      <th>25%</th>\n",
       "      <th>50%</th>\n",
       "      <th>75%</th>\n",
       "      <th>max</th>\n",
       "    </tr>\n",
       "    <tr>\n",
       "      <th>Country</th>\n",
       "      <th></th>\n",
       "      <th></th>\n",
       "      <th></th>\n",
       "      <th></th>\n",
       "      <th></th>\n",
       "      <th></th>\n",
       "      <th></th>\n",
       "      <th></th>\n",
       "      <th></th>\n",
       "      <th></th>\n",
       "      <th></th>\n",
       "      <th></th>\n",
       "      <th></th>\n",
       "      <th></th>\n",
       "      <th></th>\n",
       "      <th></th>\n",
       "      <th></th>\n",
       "      <th></th>\n",
       "      <th></th>\n",
       "      <th></th>\n",
       "      <th></th>\n",
       "    </tr>\n",
       "  </thead>\n",
       "  <tbody>\n",
       "    <tr>\n",
       "      <th>CHN</th>\n",
       "      <td>24.0</td>\n",
       "      <td>1242.170593</td>\n",
       "      <td>501.054953</td>\n",
       "      <td>736.851801</td>\n",
       "      <td>868.727549</td>\n",
       "      <td>956.811074</td>\n",
       "      <td>1640.854301</td>\n",
       "      <td>2204.243299</td>\n",
       "      <td>24.0</td>\n",
       "      <td>6.349022e+06</td>\n",
       "      <td>...</td>\n",
       "      <td>8569310.0</td>\n",
       "      <td>11854530.0</td>\n",
       "      <td>24.0</td>\n",
       "      <td>8.776392e+05</td>\n",
       "      <td>132446.213953</td>\n",
       "      <td>730340.0</td>\n",
       "      <td>796770.0</td>\n",
       "      <td>824930.0</td>\n",
       "      <td>934565.0</td>\n",
       "      <td>1178020.0</td>\n",
       "    </tr>\n",
       "    <tr>\n",
       "      <th>DEU</th>\n",
       "      <td>24.0</td>\n",
       "      <td>4098.016129</td>\n",
       "      <td>142.620120</td>\n",
       "      <td>3790.501152</td>\n",
       "      <td>4026.892941</td>\n",
       "      <td>4101.230829</td>\n",
       "      <td>4194.077507</td>\n",
       "      <td>4421.364531</td>\n",
       "      <td>24.0</td>\n",
       "      <td>9.823183e+05</td>\n",
       "      <td>...</td>\n",
       "      <td>1057385.0</td>\n",
       "      <td>1160210.0</td>\n",
       "      <td>24.0</td>\n",
       "      <td>8.829958e+04</td>\n",
       "      <td>24515.393829</td>\n",
       "      <td>58310.0</td>\n",
       "      <td>64117.5</td>\n",
       "      <td>86990.0</td>\n",
       "      <td>109620.0</td>\n",
       "      <td>131610.0</td>\n",
       "    </tr>\n",
       "    <tr>\n",
       "      <th>FRA</th>\n",
       "      <td>24.0</td>\n",
       "      <td>4062.863549</td>\n",
       "      <td>156.147772</td>\n",
       "      <td>3833.534259</td>\n",
       "      <td>3943.866931</td>\n",
       "      <td>4079.909580</td>\n",
       "      <td>4189.613490</td>\n",
       "      <td>4301.736813</td>\n",
       "      <td>24.0</td>\n",
       "      <td>4.964171e+05</td>\n",
       "      <td>...</td>\n",
       "      <td>510895.0</td>\n",
       "      <td>527540.0</td>\n",
       "      <td>24.0</td>\n",
       "      <td>7.173042e+04</td>\n",
       "      <td>4965.402457</td>\n",
       "      <td>62730.0</td>\n",
       "      <td>67860.0</td>\n",
       "      <td>73650.0</td>\n",
       "      <td>76285.0</td>\n",
       "      <td>77440.0</td>\n",
       "    </tr>\n",
       "    <tr>\n",
       "      <th>IND</th>\n",
       "      <td>24.0</td>\n",
       "      <td>445.957353</td>\n",
       "      <td>79.662858</td>\n",
       "      <td>350.075733</td>\n",
       "      <td>388.342851</td>\n",
       "      <td>419.279040</td>\n",
       "      <td>489.214631</td>\n",
       "      <td>605.794038</td>\n",
       "      <td>24.0</td>\n",
       "      <td>1.884646e+06</td>\n",
       "      <td>...</td>\n",
       "      <td>2234265.0</td>\n",
       "      <td>2875980.0</td>\n",
       "      <td>24.0</td>\n",
       "      <td>5.951762e+05</td>\n",
       "      <td>44901.965369</td>\n",
       "      <td>522740.0</td>\n",
       "      <td>558427.5</td>\n",
       "      <td>592045.0</td>\n",
       "      <td>643270.0</td>\n",
       "      <td>653590.0</td>\n",
       "    </tr>\n",
       "    <tr>\n",
       "      <th>USA</th>\n",
       "      <td>24.0</td>\n",
       "      <td>7617.991487</td>\n",
       "      <td>342.326302</td>\n",
       "      <td>6872.027284</td>\n",
       "      <td>7595.621335</td>\n",
       "      <td>7757.998404</td>\n",
       "      <td>7832.272035</td>\n",
       "      <td>8056.863850</td>\n",
       "      <td>24.0</td>\n",
       "      <td>6.442922e+06</td>\n",
       "      <td>...</td>\n",
       "      <td>6707930.0</td>\n",
       "      <td>6861150.0</td>\n",
       "      <td>24.0</td>\n",
       "      <td>6.880417e+05</td>\n",
       "      <td>51126.501055</td>\n",
       "      <td>618150.0</td>\n",
       "      <td>651755.0</td>\n",
       "      <td>666085.0</td>\n",
       "      <td>740410.0</td>\n",
       "      <td>769820.0</td>\n",
       "    </tr>\n",
       "    <tr>\n",
       "      <th>WLD</th>\n",
       "      <td>24.0</td>\n",
       "      <td>1715.195812</td>\n",
       "      <td>105.958983</td>\n",
       "      <td>1599.006331</td>\n",
       "      <td>1625.764044</td>\n",
       "      <td>1656.730582</td>\n",
       "      <td>1803.492416</td>\n",
       "      <td>1894.112059</td>\n",
       "      <td>24.0</td>\n",
       "      <td>3.527810e+07</td>\n",
       "      <td>...</td>\n",
       "      <td>39765402.5</td>\n",
       "      <td>44233530.0</td>\n",
       "      <td>24.0</td>\n",
       "      <td>7.145415e+06</td>\n",
       "      <td>403486.733837</td>\n",
       "      <td>6749630.0</td>\n",
       "      <td>6803925.0</td>\n",
       "      <td>6943050.0</td>\n",
       "      <td>7501380.0</td>\n",
       "      <td>7880460.0</td>\n",
       "    </tr>\n",
       "  </tbody>\n",
       "</table>\n",
       "<p>6 rows × 24 columns</p>\n",
       "</div>"
      ],
      "text/plain": [
       "        Energy use                                                     \\\n",
       "                                                                        \n",
       "             count         mean         std          min          25%   \n",
       "Country                                                                 \n",
       "CHN           24.0  1242.170593  501.054953   736.851801   868.727549   \n",
       "DEU           24.0  4098.016129  142.620120  3790.501152  4026.892941   \n",
       "FRA           24.0  4062.863549  156.147772  3833.534259  3943.866931   \n",
       "IND           24.0   445.957353   79.662858   350.075733   388.342851   \n",
       "USA           24.0  7617.991487  342.326302  6872.027284  7595.621335   \n",
       "WLD           24.0  1715.195812  105.958983  1599.006331  1625.764044   \n",
       "\n",
       "                                               Total greenhouse gas emissions  \\\n",
       "                                                                                \n",
       "                 50%          75%          max                          count   \n",
       "Country                                                                         \n",
       "CHN       956.811074  1640.854301  2204.243299                           24.0   \n",
       "DEU      4101.230829  4194.077507  4421.364531                           24.0   \n",
       "FRA      4079.909580  4189.613490  4301.736813                           24.0   \n",
       "IND       419.279040   489.214631   605.794038                           24.0   \n",
       "USA      7757.998404  7832.272035  8056.863850                           24.0   \n",
       "WLD      1656.730582  1803.492416  1894.112059                           24.0   \n",
       "\n",
       "                       ...                         Methane emissions  \\\n",
       "                       ...                                             \n",
       "                 mean  ...         75%         max             count   \n",
       "Country                ...                                             \n",
       "CHN      6.349022e+06  ...   8569310.0  11854530.0              24.0   \n",
       "DEU      9.823183e+05  ...   1057385.0   1160210.0              24.0   \n",
       "FRA      4.964171e+05  ...    510895.0    527540.0              24.0   \n",
       "IND      1.884646e+06  ...   2234265.0   2875980.0              24.0   \n",
       "USA      6.442922e+06  ...   6707930.0   6861150.0              24.0   \n",
       "WLD      3.527810e+07  ...  39765402.5  44233530.0              24.0   \n",
       "\n",
       "                                                                       \\\n",
       "                                                                        \n",
       "                 mean            std        min        25%        50%   \n",
       "Country                                                                 \n",
       "CHN      8.776392e+05  132446.213953   730340.0   796770.0   824930.0   \n",
       "DEU      8.829958e+04   24515.393829    58310.0    64117.5    86990.0   \n",
       "FRA      7.173042e+04    4965.402457    62730.0    67860.0    73650.0   \n",
       "IND      5.951762e+05   44901.965369   522740.0   558427.5   592045.0   \n",
       "USA      6.880417e+05   51126.501055   618150.0   651755.0   666085.0   \n",
       "WLD      7.145415e+06  403486.733837  6749630.0  6803925.0  6943050.0   \n",
       "\n",
       "                               \n",
       "                               \n",
       "               75%        max  \n",
       "Country                        \n",
       "CHN       934565.0  1178020.0  \n",
       "DEU       109620.0   131610.0  \n",
       "FRA        76285.0    77440.0  \n",
       "IND       643270.0   653590.0  \n",
       "USA       740410.0   769820.0  \n",
       "WLD      7501380.0  7880460.0  \n",
       "\n",
       "[6 rows x 24 columns]"
      ]
     },
     "execution_count": 182,
     "metadata": {},
     "output_type": "execute_result"
    }
   ],
   "source": [
    "climate_dataset.groupby('Country').describe()"
   ]
  },
  {
   "cell_type": "code",
   "execution_count": 183,
   "id": "efc0d2d3",
   "metadata": {},
   "outputs": [],
   "source": [
    "def norm(array):\n",
    "    min_val = np.min(array)\n",
    "    max_val = np.max(array)\n",
    "    \n",
    "    scaled = (array-min_val) / (max_val-min_val)\n",
    "    \n",
    "    return scaled\n",
    "\n",
    "def norm_df(df):\n",
    "    # iterate over all columns\n",
    "    for col in df.columns[1:]:     # excluding the first column\n",
    "        df[col] = norm(df[col])\n",
    "        \n",
    "    return df"
   ]
  },
  {
   "cell_type": "code",
   "execution_count": 184,
   "id": "5e0e36ee",
   "metadata": {},
   "outputs": [
    {
     "name": "stdout",
     "output_type": "stream",
     "text": [
      "        Energy use Total greenhouse gas emissions Methane emissions\n",
      "                                                                   \n",
      "count   144.000000                     144.000000        144.000000\n",
      "mean   3197.032487                       0.185444          0.194244\n",
      "std    2427.280377                       0.284037          0.322471\n",
      "min     350.075733                       0.000000          0.000000\n",
      "25%     970.810894                       0.011914          0.003801\n",
      "50%    2997.372225                       0.059288          0.075599\n",
      "75%    4191.219211                       0.144937          0.097958\n",
      "max    8056.863850                       1.000000          1.000000\n",
      "\n"
     ]
    }
   ],
   "source": [
    "# normalise result and inspect results\n",
    "normalised_df = norm_df(climate_dataset)\n",
    "print(normalised_df.describe())\n",
    "print()\n"
   ]
  },
  {
   "cell_type": "code",
   "execution_count": 185,
   "id": "e94bd487",
   "metadata": {},
   "outputs": [
    {
     "data": {
      "image/png": "[encoded data removed]",
      "text/plain": [
       "<Figure size 360x360 with 1 Axes>"
      ]
     },
     "metadata": {
      "needs_background": "light"
     },
     "output_type": "display_data"
    },
    {
     "data": {
      "image/png": "[encoded data removed]",
      "text/plain": [
       "<Figure size 360x360 with 1 Axes>"
      ]
     },
     "metadata": {
      "needs_background": "light"
     },
     "output_type": "display_data"
    }
   ],
   "source": [
    "def makeplot(df, col1, col2):\n",
    "    plt.figure(figsize=(5.0,5.0))\n",
    "    plt.plot(df[col1], df[col2], \"o\", markersize=3)\n",
    "    \n",
    "    plt.xlabel(col1)\n",
    "    plt.ylabel(col2)\n",
    "    plt.show()\n",
    "    \n",
    "makeplot(normalised_df, \"Energy use\", \"Total greenhouse gas emissions\")\n",
    "makeplot(normalised_df, \"Methane emissions\", \"Total greenhouse gas emissions\")"
   ]
  },
  {
   "cell_type": "markdown",
   "id": "24dd26ba",
   "metadata": {},
   "source": [
    "### K Mean Clustering"
   ]
  },
  {
   "cell_type": "code",
   "execution_count": 186,
   "id": "50073649",
   "metadata": {},
   "outputs": [
    {
     "data": {
      "image/png": "[encoded data removed]",
      "text/plain": [
       "<Figure size 360x360 with 1 Axes>"
      ]
     },
     "metadata": {
      "needs_background": "light"
     },
     "output_type": "display_data"
    }
   ],
   "source": [
    "####### kmeans set up the clusterer, 4 expected clusters\n",
    "kmeans = cluster.KMeans(n_clusters=4)\n",
    "\n",
    "# extract columns for fitting\n",
    "df_fit = normalised_df[[\"Methane emissions\", \"Total greenhouse gas emissions\"]].copy()\n",
    "kmeans.fit(df_fit)     \n",
    "\n",
    "# extract labels and cluster centres\n",
    "labels = kmeans.labels_\n",
    "cen = kmeans.cluster_centers_\n",
    "\n",
    "# plot using the labels to select colour\n",
    "plt.figure(figsize=(5.0,5.0))\n",
    "\n",
    "col = [\"blue\", \"red\", \"green\", \"magenta\"]\n",
    "for l in range(4):     # loop over the different labels\n",
    "    plt.plot(df_fit[\"Methane emissions\"][labels==l], df_fit[\"Total greenhouse gas emissions\"][labels==l], \"o\", markersize=3, color=col[l])\n",
    "\n",
    "# show cluster centres\n",
    "for ic in range(4):\n",
    "    xc, yc = cen[ic,:]\n",
    "    plt.plot(xc, yc, \"dk\", markersize=10)\n",
    "\n",
    "plt.xlabel(\"Methane emissions\")\n",
    "plt.ylabel(\"Total greenhouse gas emissions\")\n",
    "plt.show()"
   ]
  },
  {
   "cell_type": "markdown",
   "id": "c539f717",
   "metadata": {},
   "source": [
    "### Agglomerative Clustering"
   ]
  },
  {
   "cell_type": "code",
   "execution_count": 187,
   "id": "72d724bd",
   "metadata": {},
   "outputs": [
    {
     "data": {
      "image/png": "[encoded data removed]",
      "text/plain": [
       "<Figure size 360x360 with 1 Axes>"
      ]
     },
     "metadata": {
      "needs_background": "light"
     },
     "output_type": "display_data"
    }
   ],
   "source": [
    "##### setting up agglomerative clustering for 4 clusters\n",
    "ac = cluster.AgglomerativeClustering(n_clusters=4)\n",
    "\n",
    "df_fit = normalised_df[[\"Energy use\", \"Total greenhouse gas emissions\"]].copy()\n",
    "\n",
    "# carry out the fitting\n",
    "ac.fit(df_fit)\n",
    "\n",
    "labels = ac.labels_\n",
    "\n",
    "# The clusterer does not return cluster centres, but they are easily computed\n",
    "xcen = []\n",
    "ycen = []\n",
    "for ic in range(4):\n",
    "    xc = np.average(df_fit[\"Energy use\"][labels==ic])\n",
    "    yc = np.average(df_fit[\"Total greenhouse gas emissions\"][labels==ic])\n",
    "    xcen.append(xc)\n",
    "    ycen.append(yc)\n",
    "\n",
    "# plot using the labels to select colour\n",
    "plt.figure(figsize=(5.0,5.0))\n",
    "\n",
    "col = [\"blue\", \"red\", \"green\", \"magenta\"]\n",
    "for l in range(0,4):     # loop over the different labels\n",
    "    plt.plot(df_fit[\"Energy use\"][labels==l], df_fit[\"Total greenhouse gas emissions\"][labels==l], \"o\", markersize=3, color=col[l])\n",
    "\n",
    "# show cluster centres\n",
    "for ic in range(4):\n",
    "    plt.plot(xcen[ic], ycen[ic], \"dk\", markersize=10)\n",
    "\n",
    "plt.xlabel(\"Energy use\")\n",
    "plt.ylabel(\"Total greenhouse gas emissions\")\n",
    "plt.show()"
   ]
  },
  {
   "cell_type": "markdown",
   "id": "6332dc9f",
   "metadata": {},
   "source": [
    "### Data Fitting"
   ]
  },
  {
   "cell_type": "code",
   "execution_count": 216,
   "id": "1df74f34",
   "metadata": {},
   "outputs": [],
   "source": [
    "def exp_growth(t, scale, growth):\n",
    "    f = scale * np.exp(growth * (t-1990)) \n",
    "    return f\n",
    "        \n",
    "\n",
    "def logistics(t, scale, growth, t0):\n",
    "    f = scale / (1.0 + np.exp(-growth * (t - t0)))\n",
    "    return f\n",
    "# Define the exponential function and the logistics functions for fitting.\n"
   ]
  },
  {
   "cell_type": "code",
   "execution_count": 239,
   "id": "d2278412",
   "metadata": {},
   "outputs": [
    {
     "name": "stdout",
     "output_type": "stream",
     "text": [
      "id                 value\n",
      "-----------------  -----------------------------------------------------\n",
      "EG.USE.PCAP.KG.OE  Energy use (kg of oil equivalent per capita)\n",
      "EN.ATM.METH.KT.CE  Methane emissions (kt of CO2 equivalent)\n",
      "EN.ATM.GHGT.KT.CE  Total greenhouse gas emissions (kt of CO2 equivalent)\n",
      "                   3 elements\n"
     ]
    },
    {
     "data": {
      "text/plain": [
       "'Checking null values in DataFrame'"
      ]
     },
     "metadata": {},
     "output_type": "display_data"
    },
    {
     "data": {
      "text/plain": [
       "Energy use                          0\n",
       "Total greenhouse gas emissions      0\n",
       "Methane emissions                   0\n",
       "dtype: int64"
      ]
     },
     "metadata": {},
     "output_type": "display_data"
    }
   ],
   "source": [
    "# taking one country from climate set\n",
    "clim_dataset = get_world_bank_data(['CHN'])\n",
    "\n",
    "climate_dataset = climate_dataset.reset_index(drop=True)\n",
    "clim_dataset = clim_dataset.reset_index()\n",
    "\n",
    "# fit exponential growth\n",
    "popt, covar = opt.curve_fit(exp_growth, climate_dataset['Year'], climate_dataset['Total greenhouse gas emissions'])"
   ]
  },
  {
   "cell_type": "code",
   "execution_count": 240,
   "id": "4d30e88c",
   "metadata": {},
   "outputs": [
    {
     "name": "stdout",
     "output_type": "stream",
     "text": [
      "Fit parameter [6.55324890e+06 2.23010336e-02]\n"
     ]
    },
    {
     "data": {
      "image/png": "[encoded data removed]",
      "text/plain": [
       "<Figure size 432x288 with 1 Axes>"
      ]
     },
     "metadata": {
      "needs_background": "light"
     },
     "output_type": "display_data"
    },
    {
     "name": "stdout",
     "output_type": "stream",
     "text": [
      "\n"
     ]
    }
   ],
   "source": [
    "print(\"Fit parameter\", popt)\n",
    "\n",
    "# use *popt to pass on the fit parameters\n",
    "clim_dataset[\"greenhouse_gas_exp\"] = exp_growth(clim_dataset[\"Year\"], *popt)\n",
    "\n",
    "plt.figure()\n",
    "plt.plot(clim_dataset[\"Year\"], clim_dataset[\"Total greenhouse gas emissions\"], label=\"data\")\n",
    "plt.plot(clim_dataset[\"Year\"], clim_dataset[\"greenhouse_gas_exp\"], label=\"fit\")\n",
    "\n",
    "plt.legend()\n",
    "plt.title(\"First fit attempt\")\n",
    "plt.xlabel(\"Year\")\n",
    "plt.ylabel(\"Total greenhouse gas emissions\")\n",
    "plt.show()\n",
    "print()"
   ]
  },
  {
   "cell_type": "code",
   "execution_count": 241,
   "id": "1c8a0a14",
   "metadata": {},
   "outputs": [
    {
     "data": {
      "image/png": "[encoded data removed]",
      "text/plain": [
       "<Figure size 432x288 with 1 Axes>"
      ]
     },
     "metadata": {
      "needs_background": "light"
     },
     "output_type": "display_data"
    }
   ],
   "source": [
    "# find a feasible start value the pedestrian way\n",
    "# the scale factor is way too small. The exponential factor too large. \n",
    "# Try scaling with the 1950 population and a smaller exponential factor\n",
    "# decrease or increase exponential factor until rough agreement is reached\n",
    "# growth of 0.02 gives a reasonable start value\n",
    "popt = [4e8, 0.01]\n",
    "clim_dataset[\"greenhouse_gas_exp\"] = exp_growth(clim_dataset[\"Year\"], *popt)\n",
    "\n",
    "plt.figure()\n",
    "plt.plot(clim_dataset[\"Year\"], clim_dataset[\"Total greenhouse gas emissions\"], label=\"data\")\n",
    "plt.plot(clim_dataset[\"Year\"], clim_dataset[\"greenhouse_gas_exp\"], label=\"fit\")\n",
    "\n",
    "plt.legend()\n",
    "plt.xlabel(\"year\")\n",
    "plt.ylabel(\"Total greenhouse gas emissions\")\n",
    "plt.title(\"Improved start value\")\n",
    "plt.show()\n"
   ]
  },
  {
   "cell_type": "code",
   "execution_count": 242,
   "id": "7d9a39fb",
   "metadata": {},
   "outputs": [
    {
     "name": "stdout",
     "output_type": "stream",
     "text": [
      "Fit parameter [2.72727783e+06 6.46585382e-02]\n"
     ]
    },
    {
     "data": {
      "image/png": "[encoded data removed]",
      "text/plain": [
       "<Figure size 432x288 with 1 Axes>"
      ]
     },
     "metadata": {
      "needs_background": "light"
     },
     "output_type": "display_data"
    },
    {
     "name": "stdout",
     "output_type": "stream",
     "text": [
      "\n"
     ]
    }
   ],
   "source": [
    "# fit exponential growth\n",
    "popt, covar = opt.curve_fit(exp_growth, clim_dataset[\"Year\"], \n",
    "                            clim_dataset[\"Total greenhouse gas emissions\"], p0=[4e8, 0.02])\n",
    "# much better\n",
    "print(\"Fit parameter\", popt)\n",
    "\n",
    "clim_dataset[\"greenhouse_gas_exp\"] = exp_growth(clim_dataset[\"Year\"], *popt)\n",
    "\n",
    "plt.figure()\n",
    "plt.plot(clim_dataset[\"Year\"], clim_dataset[\"Total greenhouse gas emissions\"], label=\"data\")\n",
    "plt.plot(clim_dataset[\"Year\"], clim_dataset[\"greenhouse_gas_exp\"], label=\"fit\")\n",
    "\n",
    "plt.legend()\n",
    "plt.xlabel(\"Year\")\n",
    "plt.ylabel(\"Total greenhouse gas emissions\")\n",
    "plt.title(\"Final fit exponential growth\")\n",
    "plt.show()\n",
    "print()\n"
   ]
  },
  {
   "cell_type": "code",
   "execution_count": 243,
   "id": "bb42762e",
   "metadata": {},
   "outputs": [
    {
     "data": {
      "image/png": "[encoded data removed]",
      "text/plain": [
       "<Figure size 432x288 with 1 Axes>"
      ]
     },
     "metadata": {
      "needs_background": "light"
     },
     "output_type": "display_data"
    }
   ],
   "source": [
    "# estimated turning year: 1990\n",
    "# kept growth value from before\n",
    "# increase scale factor and growth rate until rough fit\n",
    "popt = [8e8, 0.02, 1990]\n",
    "clim_dataset[\"greenhouse_gas_log\"] = logistics(clim_dataset[\"Year\"], *popt)\n",
    "\n",
    "plt.figure()\n",
    "plt.plot(clim_dataset[\"Year\"], clim_dataset[\"Total greenhouse gas emissions\"], label=\"data\")\n",
    "plt.plot(clim_dataset[\"Year\"], clim_dataset[\"greenhouse_gas_log\"], label=\"fit\")\n",
    "\n",
    "plt.legend()\n",
    "plt.xlabel(\"year\")\n",
    "plt.ylabel(\"Total greenhouse gas emissions\")\n",
    "plt.title(\"Improved start value\")\n",
    "plt.show()"
   ]
  },
  {
   "cell_type": "code",
   "execution_count": 251,
   "id": "91be0a3e",
   "metadata": {},
   "outputs": [
    {
     "name": "stdout",
     "output_type": "stream",
     "text": [
      "Fit parameter [1.20330828e+12 6.46589423e-02 2.19101291e+03]\n"
     ]
    },
    {
     "data": {
      "image/png": "[encoded data removed]",
      "text/plain": [
       "<Figure size 432x288 with 1 Axes>"
      ]
     },
     "metadata": {
      "needs_background": "light"
     },
     "output_type": "display_data"
    }
   ],
   "source": [
    "popt, covar = opt.curve_fit(logistics, clim_dataset[\"Year\"], clim_dataset[\"Total greenhouse gas emissions\"], \n",
    "                            p0=(2e9, 0.05, 1990.0), maxfev=5000)\n",
    "print(\"Fit parameter\", popt)\n",
    "      \n",
    "clim_dataset[\"greenhouse_gas_log\"] = logistics(clim_dataset[\"Year\"], *popt)\n",
    "\n",
    "plt.figure()\n",
    "plt.title(\"logistics function\")\n",
    "plt.plot(clim_dataset[\"Year\"], clim_dataset[\"Total greenhouse gas emissions\"], label=\"data\")\n",
    "plt.plot(clim_dataset[\"Year\"], clim_dataset[\"greenhouse_gas_log\"], label=\"fit\")\n",
    "\n",
    "plt.legend()\n",
    "plt.xlabel(\"Year\")\n",
    "plt.ylabel(\"Total greenhouse gas emissions\")\n",
    "plt.show()"
   ]
  },
  {
   "cell_type": "code",
   "execution_count": 252,
   "id": "8212b0a4",
   "metadata": {},
   "outputs": [],
   "source": [
    "import itertools as iter\n",
    "\n",
    "def err_ranges(x, func, param, sigma):\n",
    "    # initiate arrays for lower and upper limits\n",
    "    lower = func(x, *param)\n",
    "    upper = lower\n",
    "    \n",
    "    uplow = []   # list to hold upper and lower limits for parameters\n",
    "    for p,s in zip(param, sigma):\n",
    "        pmin = p - s\n",
    "        pmax = p + s\n",
    "        uplow.append((pmin, pmax))\n",
    "        \n",
    "    pmix = list(iter.product(*uplow))\n",
    "    \n",
    "    for p in pmix:\n",
    "        y = func(x, *p)\n",
    "        lower = np.minimum(lower, y)\n",
    "        upper = np.maximum(upper, y)\n",
    "        \n",
    "    return lower, upper   \n",
    "\n"
   ]
  },
  {
   "cell_type": "code",
   "execution_count": 260,
   "id": "3e2bc0a2",
   "metadata": {},
   "outputs": [
    {
     "name": "stdout",
     "output_type": "stream",
     "text": [
      "[5.69702467e+13 1.61201383e-02 1.82937913e+06]\n"
     ]
    },
    {
     "name": "stderr",
     "output_type": "stream",
     "text": [
      "C:\\Users\\shabi\\anaconda3\\lib\\site-packages\\pandas\\core\\arraylike.py:364: RuntimeWarning: overflow encountered in exp\n",
      "  result = getattr(ufunc, method)(*inputs, **kwargs)\n"
     ]
    },
    {
     "data": {
      "image/png": "[encoded data removed]",
      "text/plain": [
       "<Figure size 432x288 with 1 Axes>"
      ]
     },
     "metadata": {
      "needs_background": "light"
     },
     "output_type": "display_data"
    }
   ],
   "source": [
    "# extract the sigmas from the diagonal of the covariance matrix\n",
    "sigma = np.sqrt(np.diag(covar))\n",
    "print(sigma)\n",
    "\n",
    "low, up = err_ranges(clim_dataset[\"Year\"], logistics, popt, sigma)\n",
    "\n",
    "plt.figure()\n",
    "plt.title(\"Logistics function\")\n",
    "plt.plot(clim_dataset[\"Year\"], clim_dataset[\"Total greenhouse gas emissions\"], label=\"data\")\n",
    "plt.plot(clim_dataset[\"Year\"], clim_dataset[\"greenhouse_gas_log\"], label=\"fit\")\n",
    "\n",
    "plt.fill_between(clim_dataset[\"Year\"], low, up, alpha=0.7)\n",
    "plt.legend()\n",
    "plt.xlabel(\"Year\")\n",
    "plt.ylabel(\"Total greenhouse gas emissions\")\n",
    "plt.show()\n"
   ]
  },
  {
   "cell_type": "code",
   "execution_count": 261,
   "id": "c7b8ee57",
   "metadata": {},
   "outputs": [
    {
     "name": "stdout",
     "output_type": "stream",
     "text": [
      "Forcasted Greenhouse gas emissions\n",
      "2030 between  -55766938461670.59 and 58173555029151.92\n",
      "2040 between  -55766938461670.59 and 58173555029151.92\n",
      "2050 between  -55766938461670.59 and 58173555029151.92\n"
     ]
    },
    {
     "name": "stderr",
     "output_type": "stream",
     "text": [
      "C:\\Users\\shabi\\AppData\\Local\\Temp/ipykernel_4908/1538435588.py:7: RuntimeWarning: overflow encountered in exp\n",
      "  f = scale / (1.0 + np.exp(-growth * (t - t0)))\n"
     ]
    }
   ],
   "source": [
    "print(\"Forcasted greenhouse gas emissions\")\n",
    "low, up = err_ranges(2030, logistics, popt, sigma)\n",
    "print(\"2030 between \", low, \"and\", up)\n",
    "low, up = err_ranges(2040, logistics, popt, sigma)\n",
    "print(\"2040 between \", low, \"and\", up)\n",
    "low, up = err_ranges(2050, logistics, popt, sigma)\n",
    "print(\"2050 between \", low, \"and\", up)"
   ]
  },
  {
   "cell_type": "code",
   "execution_count": null,
   "id": "cbf39c58",
   "metadata": {},
   "outputs": [],
   "source": [
    "print(\"Forcasted greenhouse gas emissions\")\n",
    "low, up = err_ranges(2030, logistics, popt, sigma)\n",
    "mean = (up+low) / 2.0\n",
    "pm = (up-low) / 2.0\n",
    "print(\"2030:\", mean, \"+/-\", pm)\n",
    "\n",
    "low, up = err_ranges(2040, logistics, popt, sigma)\n",
    "mean = (up+low) / 2.0\n",
    "pm = (up-low) / 2.0\n",
    "print(\"2040:\", mean, \"+/-\", pm)\n",
    "\n",
    "low, up = err_ranges(2050, logistics, popt, sigma)\n",
    "mean = (up+low) / 2.0\n",
    "pm = (up-low) / 2.0\n",
    "print(\"2050:\", mean, \"+/-\", pm)"
   ]
  }
 ],
 "metadata": {
  "kernelspec": {
   "display_name": "Python 3 (ipykernel)",
   "language": "python",
   "name": "python3"
  },
  "language_info": {
   "codemirror_mode": {
    "name": "ipython",
    "version": 3
   },
   "file_extension": ".py",
   "mimetype": "text/x-python",
   "name": "python",
   "nbconvert_exporter": "python",
   "pygments_lexer": "ipython3",
   "version": "3.9.7"
  }
 },
 "nbformat": 4,
 "nbformat_minor": 5
}
